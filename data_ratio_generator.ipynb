{
 "cells": [
  {
   "cell_type": "code",
   "execution_count": 1,
   "id": "93ce4f05-dfe3-43f5-92cc-eef6334b6044",
   "metadata": {
    "ExecuteTime": {
     "end_time": "2024-11-24T11:53:11.803805100Z",
     "start_time": "2024-11-24T11:53:08.749349300Z"
    }
   },
   "outputs": [],
   "source": [
    "import splitfolders\n",
    "import shutil\n",
    "import os"
   ]
  },
  {
   "cell_type": "code",
   "execution_count": 2,
   "id": "13b618f9-e007-4a26-942a-e0a47ed2720b",
   "metadata": {},
   "outputs": [],
   "source": [
    "def merge_category_folders(input_dir, output_dir):\n",
    "    os.makedirs(output_dir, exist_ok=True)\n",
    "    list_dir_input = [entry.name for entry in os.scandir(input_dir) if entry.is_dir()]\n",
    "    for dir in list_dir_input:\n",
    "        print(dir)\n",
    "    list_train = [entry.name for entry in os.scandir(input_dir + '/' + list_dir_input[0]) if entry.is_dir()]\n",
    "    list_valid = [entry.name for entry in os.scandir(input_dir + '/' + list_dir_input[1]) if entry.is_dir()]\n",
    "    list_test = [entry.name for entry in os.scandir(input_dir + '/' + list_dir_input[2]) if entry.is_dir()]\n",
    "    for dir in list_train:\n",
    "        os.makedirs(output_dir + '/' + dir, exist_ok=True)\n",
    "        train_path = input_dir + '/' + list_dir_input[0] + '/' + dir\n",
    "        valid_path = input_dir + '/' + list_dir_input[1] + '/' + dir\n",
    "        test_path = input_dir + '/' + list_dir_input[2] + '/' + dir\n",
    "        category_output_dir = output_dir + '/' + dir\n",
    "        print(train_path)\n",
    "        for root, dirs, files in os.walk(train_path):\n",
    "            for file in files:\n",
    "                if \"zone.identifier\" in file.lower():\n",
    "                    continue\n",
    "                src_path = os.path.join(root, file)\n",
    "                dst_file = f\"train_{file}\"  # Dodanie prefiksu\n",
    "                dst_path = os.path.join(category_output_dir, dst_file)\n",
    "                shutil.copy(src_path, dst_path)\n",
    "        for root, dirs, files in os.walk(valid_path):\n",
    "            for file in files:\n",
    "                if \"zone.identifier\" in file.lower():\n",
    "                    continue\n",
    "                src_path = os.path.join(root, file)\n",
    "                dst_file = f\"val_{file}\"  # Dodanie prefiksu\n",
    "                dst_path = os.path.join(category_output_dir, dst_file)\n",
    "                shutil.copy(src_path, dst_path)\n",
    "        for root, dirs, files in os.walk(test_path):\n",
    "            for file in files:\n",
    "                if \"zone.identifier\" in file.lower():\n",
    "                    continue\n",
    "                src_path = os.path.join(root, file)\n",
    "                dst_file = f\"test_{file}\"  # Dodanie prefiksu\n",
    "                dst_path = os.path.join(category_output_dir, dst_file)\n",
    "                shutil.copy(src_path, dst_path)\n",
    "        \n",
    "    \n",
    "    "
   ]
  },
  {
   "cell_type": "code",
   "execution_count": 3,
   "id": "6b3e4afa-0d79-4e63-9503-c2a6d2f19408",
   "metadata": {},
   "outputs": [
    {
     "name": "stdout",
     "output_type": "stream",
     "text": [
      "train\n",
      "valid\n",
      "test\n",
      "./data/train/ace of diamonds\n",
      "./data/train/jack of hearts\n",
      "./data/train/king of diamonds\n",
      "./data/train/ten of spades\n",
      "./data/train/five of diamonds\n",
      "./data/train/queen of hearts\n",
      "./data/train/seven of diamonds\n",
      "./data/train/ten of hearts\n",
      "./data/train/seven of hearts\n",
      "./data/train/eight of diamonds\n",
      "./data/train/king of clubs\n",
      "./data/train/five of spades\n",
      "./data/train/five of hearts\n",
      "./data/train/nine of spades\n",
      "./data/train/three of hearts\n",
      "./data/train/joker\n",
      "./data/train/ace of spades\n",
      "./data/train/queen of diamonds\n",
      "./data/train/eight of clubs\n",
      "./data/train/four of spades\n",
      "./data/train/two of diamonds\n",
      "./data/train/jack of clubs\n",
      "./data/train/four of diamonds\n",
      "./data/train/nine of diamonds\n",
      "./data/train/eight of hearts\n",
      "./data/train/two of spades\n",
      "./data/train/seven of clubs\n",
      "./data/train/nine of hearts\n",
      "./data/train/queen of clubs\n",
      "./data/train/seven of spades\n",
      "./data/train/jack of diamonds\n",
      "./data/train/two of clubs\n",
      "./data/train/six of clubs\n",
      "./data/train/six of diamonds\n",
      "./data/train/ten of diamonds\n",
      "./data/train/two of hearts\n",
      "./data/train/three of diamonds\n",
      "./data/train/six of hearts\n",
      "./data/train/ten of clubs\n",
      "./data/train/king of hearts\n",
      "./data/train/ace of clubs\n",
      "./data/train/five of clubs\n",
      "./data/train/eight of spades\n",
      "./data/train/six of spades\n",
      "./data/train/jack of spades\n",
      "./data/train/ace of hearts\n",
      "./data/train/four of hearts\n",
      "./data/train/queen of spades\n",
      "./data/train/king of spades\n",
      "./data/train/four of clubs\n",
      "./data/train/three of clubs\n",
      "./data/train/three of spades\n",
      "./data/train/nine of clubs\n",
      "16\n"
     ]
    },
    {
     "name": "stderr",
     "output_type": "stream",
     "text": [
      "\n",
      "\n",
      "\n",
      "\n",
      "opying files: 8155 files [00:00, 25096.17 files/s]"
     ]
    }
   ],
   "source": [
    "merge_category_folders('./data' , './all_data')\n",
    "input_folder1 = 'data/train/joker'\n",
    "input_folder2 ='data/validate/joker'\n",
    "input_folder3 = 'data/test/joker'\n",
    "print(len(input_folder1))\n",
    "\n",
    "splitfolders.ratio('all_data', '90_5_5', seed=1337, ratio=(0.8, 0.1, 0.1))\n",
    "splitfolders.ratio('all_data', '80_10_10', seed=1337, ratio=(0.8, 0.1, 0.1))\n",
    "splitfolders.ratio('all_data', '70_15_15', seed=1337, ratio=(0.7, 0.15, 0.15))\n",
    "splitfolders.ratio('all_data', '60_20_20', seed=1337, ratio=(0.6, 0.2, 0.2))"
   ]
  },
  {
   "cell_type": "code",
   "execution_count": null,
   "id": "97e877b0-6029-4736-9c7b-5e1605580e0b",
   "metadata": {},
   "outputs": [],
   "source": []
  }
 ],
 "metadata": {
  "kernelspec": {
   "display_name": "Python 3 (ipykernel)",
   "language": "python",
   "name": "python3"
  },
  "language_info": {
   "codemirror_mode": {
    "name": "ipython",
    "version": 3
   },
   "file_extension": ".py",
   "mimetype": "text/x-python",
   "name": "python",
   "nbconvert_exporter": "python",
   "pygments_lexer": "ipython3",
   "version": "3.12.3"
  }
 },
 "nbformat": 4,
 "nbformat_minor": 5
}
